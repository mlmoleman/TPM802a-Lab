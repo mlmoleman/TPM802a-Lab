{
 "cells": [
  {
   "cell_type": "code",
   "id": "initial_id",
   "metadata": {
    "collapsed": true,
    "ExecuteTime": {
     "end_time": "2024-10-02T13:06:31.667796Z",
     "start_time": "2024-10-02T13:06:28.818947Z"
    }
   },
   "source": [
    "import pandas as pd\n",
    "import matplotlib.pyplot as plt"
   ],
   "outputs": [],
   "execution_count": 47
  },
  {
   "metadata": {
    "ExecuteTime": {
     "end_time": "2024-10-02T12:37:35.140620Z",
     "start_time": "2024-10-02T12:37:34.310256Z"
    }
   },
   "cell_type": "code",
   "source": "xyz = pd.read_table(\"06_tx_1965-2023_jrk.xyz\", delim_whitespace=True)",
   "id": "e732d58c2337a28",
   "outputs": [
    {
     "name": "stderr",
     "output_type": "stream",
     "text": [
      "/var/folders/g4/8z1prdqs5l3dj5xzv765t_sc0000gn/T/ipykernel_4343/152992696.py:1: FutureWarning: The 'delim_whitespace' keyword in pd.read_table is deprecated and will be removed in a future version. Use ``sep='\\s+'`` instead\n",
      "  xyz = pd.read_table(\"06_tx_1965-2023_jrk.xyz\", delim_whitespace=True)\n"
     ]
    }
   ],
   "execution_count": 2
  },
  {
   "metadata": {
    "ExecuteTime": {
     "end_time": "2024-10-02T13:54:27.522586Z",
     "start_time": "2024-10-02T13:54:27.331530Z"
    }
   },
   "cell_type": "code",
   "source": "xyz",
   "id": "e0b028d7b524fe66",
   "outputs": [
    {
     "data": {
      "text/plain": [
       "                 X          Y     Z         T   loc  year\n",
       "0        109682.41  558181.19  3.77  5-8-1965   900  1965\n",
       "1        109677.53  558180.09  3.63  5-8-1965   900  1965\n",
       "2        109672.65  558179.00  3.55  5-8-1965   900  1965\n",
       "3        109667.77  558177.91  3.41  5-8-1965   900  1965\n",
       "4        109662.89  558176.82  3.16  5-8-1965   900  1965\n",
       "...            ...        ...   ...       ...   ...   ...\n",
       "1380678  117558.08  579018.26 -1.44  3-4-2023  3081  2023\n",
       "1380679  117551.46  579025.77 -1.70  3-4-2023  3081  2023\n",
       "1380680  117544.85  579033.27 -1.88  3-4-2023  3081  2023\n",
       "1380681  117538.24  579040.77 -2.14  3-4-2023  3081  2023\n",
       "1380682  117531.63  579048.27 -2.21  3-4-2023  3081  2023\n",
       "\n",
       "[1380683 rows x 6 columns]"
      ],
      "text/html": [
       "<div>\n",
       "<style scoped>\n",
       "    .dataframe tbody tr th:only-of-type {\n",
       "        vertical-align: middle;\n",
       "    }\n",
       "\n",
       "    .dataframe tbody tr th {\n",
       "        vertical-align: top;\n",
       "    }\n",
       "\n",
       "    .dataframe thead th {\n",
       "        text-align: right;\n",
       "    }\n",
       "</style>\n",
       "<table border=\"1\" class=\"dataframe\">\n",
       "  <thead>\n",
       "    <tr style=\"text-align: right;\">\n",
       "      <th></th>\n",
       "      <th>X</th>\n",
       "      <th>Y</th>\n",
       "      <th>Z</th>\n",
       "      <th>T</th>\n",
       "      <th>loc</th>\n",
       "      <th>year</th>\n",
       "    </tr>\n",
       "  </thead>\n",
       "  <tbody>\n",
       "    <tr>\n",
       "      <th>0</th>\n",
       "      <td>109682.41</td>\n",
       "      <td>558181.19</td>\n",
       "      <td>3.77</td>\n",
       "      <td>5-8-1965</td>\n",
       "      <td>900</td>\n",
       "      <td>1965</td>\n",
       "    </tr>\n",
       "    <tr>\n",
       "      <th>1</th>\n",
       "      <td>109677.53</td>\n",
       "      <td>558180.09</td>\n",
       "      <td>3.63</td>\n",
       "      <td>5-8-1965</td>\n",
       "      <td>900</td>\n",
       "      <td>1965</td>\n",
       "    </tr>\n",
       "    <tr>\n",
       "      <th>2</th>\n",
       "      <td>109672.65</td>\n",
       "      <td>558179.00</td>\n",
       "      <td>3.55</td>\n",
       "      <td>5-8-1965</td>\n",
       "      <td>900</td>\n",
       "      <td>1965</td>\n",
       "    </tr>\n",
       "    <tr>\n",
       "      <th>3</th>\n",
       "      <td>109667.77</td>\n",
       "      <td>558177.91</td>\n",
       "      <td>3.41</td>\n",
       "      <td>5-8-1965</td>\n",
       "      <td>900</td>\n",
       "      <td>1965</td>\n",
       "    </tr>\n",
       "    <tr>\n",
       "      <th>4</th>\n",
       "      <td>109662.89</td>\n",
       "      <td>558176.82</td>\n",
       "      <td>3.16</td>\n",
       "      <td>5-8-1965</td>\n",
       "      <td>900</td>\n",
       "      <td>1965</td>\n",
       "    </tr>\n",
       "    <tr>\n",
       "      <th>...</th>\n",
       "      <td>...</td>\n",
       "      <td>...</td>\n",
       "      <td>...</td>\n",
       "      <td>...</td>\n",
       "      <td>...</td>\n",
       "      <td>...</td>\n",
       "    </tr>\n",
       "    <tr>\n",
       "      <th>1380678</th>\n",
       "      <td>117558.08</td>\n",
       "      <td>579018.26</td>\n",
       "      <td>-1.44</td>\n",
       "      <td>3-4-2023</td>\n",
       "      <td>3081</td>\n",
       "      <td>2023</td>\n",
       "    </tr>\n",
       "    <tr>\n",
       "      <th>1380679</th>\n",
       "      <td>117551.46</td>\n",
       "      <td>579025.77</td>\n",
       "      <td>-1.70</td>\n",
       "      <td>3-4-2023</td>\n",
       "      <td>3081</td>\n",
       "      <td>2023</td>\n",
       "    </tr>\n",
       "    <tr>\n",
       "      <th>1380680</th>\n",
       "      <td>117544.85</td>\n",
       "      <td>579033.27</td>\n",
       "      <td>-1.88</td>\n",
       "      <td>3-4-2023</td>\n",
       "      <td>3081</td>\n",
       "      <td>2023</td>\n",
       "    </tr>\n",
       "    <tr>\n",
       "      <th>1380681</th>\n",
       "      <td>117538.24</td>\n",
       "      <td>579040.77</td>\n",
       "      <td>-2.14</td>\n",
       "      <td>3-4-2023</td>\n",
       "      <td>3081</td>\n",
       "      <td>2023</td>\n",
       "    </tr>\n",
       "    <tr>\n",
       "      <th>1380682</th>\n",
       "      <td>117531.63</td>\n",
       "      <td>579048.27</td>\n",
       "      <td>-2.21</td>\n",
       "      <td>3-4-2023</td>\n",
       "      <td>3081</td>\n",
       "      <td>2023</td>\n",
       "    </tr>\n",
       "  </tbody>\n",
       "</table>\n",
       "<p>1380683 rows × 6 columns</p>\n",
       "</div>"
      ]
     },
     "execution_count": 85,
     "metadata": {},
     "output_type": "execute_result"
    }
   ],
   "execution_count": 85
  },
  {
   "metadata": {
    "ExecuteTime": {
     "end_time": "2024-10-02T13:03:20.646301Z",
     "start_time": "2024-10-02T13:03:19.144917Z"
    }
   },
   "cell_type": "code",
   "source": "xyz[\"year\"] = xyz[\"T\"].str[-4:].astype(int)",
   "id": "aaa9621cb8d762f0",
   "outputs": [],
   "execution_count": 43
  },
  {
   "metadata": {
    "ExecuteTime": {
     "end_time": "2024-10-02T13:37:50.743683Z",
     "start_time": "2024-10-02T13:37:50.705954Z"
    }
   },
   "cell_type": "code",
   "source": "",
   "id": "6ef80b62e5e779f7",
   "outputs": [
    {
     "name": "stdout",
     "output_type": "stream",
     "text": [
      "[900, 915, 930, 945, 960, 976, 1000, 1001, 1013, 1033, 1053, 1073, 1093, 1108, 1128, 1148, 1168, 1190, 1210, 1230, 1249, 1269, 1289, 1298, 1312, 1332, 1352, 1372, 1392, 1410, 1430, 1450, 1470, 1490, 1506, 1526, 1546, 1566, 1586, 1604, 1624, 1644, 1664, 1684, 1703, 1723, 1743, 1763, 1778, 1793, 1813, 1833, 1853, 1873, 1893, 1912, 1932, 1952, 1972, 1992, 2011, 2031, 2051, 2071, 2091, 2111, 2131, 2151, 2171, 2191, 2211, 2231, 2251, 2271, 2291, 2300, 2320, 2340, 2360, 2380, 2400, 2420, 2440, 2460, 2480, 2500, 2520, 2540, 2560, 2580, 2600, 2620, 2640, 2660, 2680, 2700, 2720, 2740, 2760, 2780, 2800, 2820, 2840, 2860, 2880, 2900, 2901, 2917, 2937, 2957, 2977, 3001, 3021, 3041, 3061, 3081]\n"
     ]
    }
   ],
   "execution_count": 73
  },
  {
   "metadata": {
    "ExecuteTime": {
     "end_time": "2024-10-02T14:11:09.291580Z",
     "start_time": "2024-10-02T14:11:09.041530Z"
    }
   },
   "cell_type": "code",
   "source": [
    "baseline = 1970\n",
    "years = [year for year in xyz[\"year\"].unique()]\n",
    "\n",
    "for year in years: \n",
    "    concat_rows = []\n",
    "    if year == baseline: \n",
    "        data_year = xyz[xyz[\"year\"] == year] # slice dataframe based on year \n",
    "        locations = [location for location in data_year[\"loc\"].unique()]\n",
    "        for location in locations:  \n",
    "            data_loc = data_year[data_year[\"loc\"] == location]\n",
    "            index_highest = data_loc['Z'].idxmax()\n",
    "            print(index_highest, data_loc.iloc[index_highest, :].copy())\n",
    "            concat_rows.append(data_loc.iloc[index_highest, :].copy())\n",
    "            # indexes_highest.append(index_highest)\n",
    "            # row_highest = data_loc.iloc[index_highest]\n",
    "            \n",
    "            # fig = plt.figure(figsize = (8,8))\n",
    "            # ax = plt.axes(projection='3d')\n",
    "            # ax.grid()\n",
    "            # ax.plot3D(data_loc[\"X\"], data_loc[\"Y\"], data_loc[\"Z\"])\n",
    "            # plt.show()\n",
    "        \n",
    "        baseline += 10 # add 10 years to baseline  \n",
    "    data_highest = pd.DataFrame(concat_rows)\n",
    "    #print(data_highest)"
   ],
   "id": "6d1acbd5aae949f",
   "outputs": [
    {
     "ename": "IndexError",
     "evalue": "single positional indexer is out-of-bounds",
     "output_type": "error",
     "traceback": [
      "\u001B[0;31m---------------------------------------------------------------------------\u001B[0m",
      "\u001B[0;31mIndexError\u001B[0m                                Traceback (most recent call last)",
      "Cell \u001B[0;32mIn[94], line 12\u001B[0m\n\u001B[1;32m     10\u001B[0m data_loc \u001B[38;5;241m=\u001B[39m data_year[data_year[\u001B[38;5;124m\"\u001B[39m\u001B[38;5;124mloc\u001B[39m\u001B[38;5;124m\"\u001B[39m] \u001B[38;5;241m==\u001B[39m location]\n\u001B[1;32m     11\u001B[0m index_highest \u001B[38;5;241m=\u001B[39m data_loc[\u001B[38;5;124m'\u001B[39m\u001B[38;5;124mZ\u001B[39m\u001B[38;5;124m'\u001B[39m]\u001B[38;5;241m.\u001B[39midxmax()\n\u001B[0;32m---> 12\u001B[0m \u001B[38;5;28mprint\u001B[39m(index_highest, \u001B[43mdata_loc\u001B[49m\u001B[38;5;241;43m.\u001B[39;49m\u001B[43miloc\u001B[49m\u001B[43m[\u001B[49m\u001B[43mindex_highest\u001B[49m\u001B[43m,\u001B[49m\u001B[43m \u001B[49m\u001B[43m:\u001B[49m\u001B[43m]\u001B[49m\u001B[38;5;241m.\u001B[39mcopy())\n\u001B[1;32m     13\u001B[0m concat_rows\u001B[38;5;241m.\u001B[39mappend(data_loc\u001B[38;5;241m.\u001B[39miloc[index_highest, :]\u001B[38;5;241m.\u001B[39mcopy())\n\u001B[1;32m     14\u001B[0m \u001B[38;5;66;03m# indexes_highest.append(index_highest)\u001B[39;00m\n\u001B[1;32m     15\u001B[0m \u001B[38;5;66;03m# row_highest = data_loc.iloc[index_highest]\u001B[39;00m\n\u001B[1;32m     16\u001B[0m \n\u001B[0;32m   (...)\u001B[0m\n\u001B[1;32m     20\u001B[0m \u001B[38;5;66;03m# ax.plot3D(data_loc[\"X\"], data_loc[\"Y\"], data_loc[\"Z\"])\u001B[39;00m\n\u001B[1;32m     21\u001B[0m \u001B[38;5;66;03m# plt.show()\u001B[39;00m\n",
      "File \u001B[0;32m/Applications/anaconda3/envs/EPA/lib/python3.12/site-packages/pandas/core/indexing.py:1184\u001B[0m, in \u001B[0;36m_LocationIndexer.__getitem__\u001B[0;34m(self, key)\u001B[0m\n\u001B[1;32m   1182\u001B[0m     \u001B[38;5;28;01mif\u001B[39;00m \u001B[38;5;28mself\u001B[39m\u001B[38;5;241m.\u001B[39m_is_scalar_access(key):\n\u001B[1;32m   1183\u001B[0m         \u001B[38;5;28;01mreturn\u001B[39;00m \u001B[38;5;28mself\u001B[39m\u001B[38;5;241m.\u001B[39mobj\u001B[38;5;241m.\u001B[39m_get_value(\u001B[38;5;241m*\u001B[39mkey, takeable\u001B[38;5;241m=\u001B[39m\u001B[38;5;28mself\u001B[39m\u001B[38;5;241m.\u001B[39m_takeable)\n\u001B[0;32m-> 1184\u001B[0m     \u001B[38;5;28;01mreturn\u001B[39;00m \u001B[38;5;28;43mself\u001B[39;49m\u001B[38;5;241;43m.\u001B[39;49m\u001B[43m_getitem_tuple\u001B[49m\u001B[43m(\u001B[49m\u001B[43mkey\u001B[49m\u001B[43m)\u001B[49m\n\u001B[1;32m   1185\u001B[0m \u001B[38;5;28;01melse\u001B[39;00m:\n\u001B[1;32m   1186\u001B[0m     \u001B[38;5;66;03m# we by definition only have the 0th axis\u001B[39;00m\n\u001B[1;32m   1187\u001B[0m     axis \u001B[38;5;241m=\u001B[39m \u001B[38;5;28mself\u001B[39m\u001B[38;5;241m.\u001B[39maxis \u001B[38;5;129;01mor\u001B[39;00m \u001B[38;5;241m0\u001B[39m\n",
      "File \u001B[0;32m/Applications/anaconda3/envs/EPA/lib/python3.12/site-packages/pandas/core/indexing.py:1690\u001B[0m, in \u001B[0;36m_iLocIndexer._getitem_tuple\u001B[0;34m(self, tup)\u001B[0m\n\u001B[1;32m   1689\u001B[0m \u001B[38;5;28;01mdef\u001B[39;00m \u001B[38;5;21m_getitem_tuple\u001B[39m(\u001B[38;5;28mself\u001B[39m, tup: \u001B[38;5;28mtuple\u001B[39m):\n\u001B[0;32m-> 1690\u001B[0m     tup \u001B[38;5;241m=\u001B[39m \u001B[38;5;28;43mself\u001B[39;49m\u001B[38;5;241;43m.\u001B[39;49m\u001B[43m_validate_tuple_indexer\u001B[49m\u001B[43m(\u001B[49m\u001B[43mtup\u001B[49m\u001B[43m)\u001B[49m\n\u001B[1;32m   1691\u001B[0m     \u001B[38;5;28;01mwith\u001B[39;00m suppress(IndexingError):\n\u001B[1;32m   1692\u001B[0m         \u001B[38;5;28;01mreturn\u001B[39;00m \u001B[38;5;28mself\u001B[39m\u001B[38;5;241m.\u001B[39m_getitem_lowerdim(tup)\n",
      "File \u001B[0;32m/Applications/anaconda3/envs/EPA/lib/python3.12/site-packages/pandas/core/indexing.py:966\u001B[0m, in \u001B[0;36m_LocationIndexer._validate_tuple_indexer\u001B[0;34m(self, key)\u001B[0m\n\u001B[1;32m    964\u001B[0m \u001B[38;5;28;01mfor\u001B[39;00m i, k \u001B[38;5;129;01min\u001B[39;00m \u001B[38;5;28menumerate\u001B[39m(key):\n\u001B[1;32m    965\u001B[0m     \u001B[38;5;28;01mtry\u001B[39;00m:\n\u001B[0;32m--> 966\u001B[0m         \u001B[38;5;28;43mself\u001B[39;49m\u001B[38;5;241;43m.\u001B[39;49m\u001B[43m_validate_key\u001B[49m\u001B[43m(\u001B[49m\u001B[43mk\u001B[49m\u001B[43m,\u001B[49m\u001B[43m \u001B[49m\u001B[43mi\u001B[49m\u001B[43m)\u001B[49m\n\u001B[1;32m    967\u001B[0m     \u001B[38;5;28;01mexcept\u001B[39;00m \u001B[38;5;167;01mValueError\u001B[39;00m \u001B[38;5;28;01mas\u001B[39;00m err:\n\u001B[1;32m    968\u001B[0m         \u001B[38;5;28;01mraise\u001B[39;00m \u001B[38;5;167;01mValueError\u001B[39;00m(\n\u001B[1;32m    969\u001B[0m             \u001B[38;5;124m\"\u001B[39m\u001B[38;5;124mLocation based indexing can only have \u001B[39m\u001B[38;5;124m\"\u001B[39m\n\u001B[1;32m    970\u001B[0m             \u001B[38;5;124mf\u001B[39m\u001B[38;5;124m\"\u001B[39m\u001B[38;5;124m[\u001B[39m\u001B[38;5;132;01m{\u001B[39;00m\u001B[38;5;28mself\u001B[39m\u001B[38;5;241m.\u001B[39m_valid_types\u001B[38;5;132;01m}\u001B[39;00m\u001B[38;5;124m] types\u001B[39m\u001B[38;5;124m\"\u001B[39m\n\u001B[1;32m    971\u001B[0m         ) \u001B[38;5;28;01mfrom\u001B[39;00m \u001B[38;5;21;01merr\u001B[39;00m\n",
      "File \u001B[0;32m/Applications/anaconda3/envs/EPA/lib/python3.12/site-packages/pandas/core/indexing.py:1592\u001B[0m, in \u001B[0;36m_iLocIndexer._validate_key\u001B[0;34m(self, key, axis)\u001B[0m\n\u001B[1;32m   1590\u001B[0m     \u001B[38;5;28;01mreturn\u001B[39;00m\n\u001B[1;32m   1591\u001B[0m \u001B[38;5;28;01melif\u001B[39;00m is_integer(key):\n\u001B[0;32m-> 1592\u001B[0m     \u001B[38;5;28;43mself\u001B[39;49m\u001B[38;5;241;43m.\u001B[39;49m\u001B[43m_validate_integer\u001B[49m\u001B[43m(\u001B[49m\u001B[43mkey\u001B[49m\u001B[43m,\u001B[49m\u001B[43m \u001B[49m\u001B[43maxis\u001B[49m\u001B[43m)\u001B[49m\n\u001B[1;32m   1593\u001B[0m \u001B[38;5;28;01melif\u001B[39;00m \u001B[38;5;28misinstance\u001B[39m(key, \u001B[38;5;28mtuple\u001B[39m):\n\u001B[1;32m   1594\u001B[0m     \u001B[38;5;66;03m# a tuple should already have been caught by this point\u001B[39;00m\n\u001B[1;32m   1595\u001B[0m     \u001B[38;5;66;03m# so don't treat a tuple as a valid indexer\u001B[39;00m\n\u001B[1;32m   1596\u001B[0m     \u001B[38;5;28;01mraise\u001B[39;00m IndexingError(\u001B[38;5;124m\"\u001B[39m\u001B[38;5;124mToo many indexers\u001B[39m\u001B[38;5;124m\"\u001B[39m)\n",
      "File \u001B[0;32m/Applications/anaconda3/envs/EPA/lib/python3.12/site-packages/pandas/core/indexing.py:1685\u001B[0m, in \u001B[0;36m_iLocIndexer._validate_integer\u001B[0;34m(self, key, axis)\u001B[0m\n\u001B[1;32m   1683\u001B[0m len_axis \u001B[38;5;241m=\u001B[39m \u001B[38;5;28mlen\u001B[39m(\u001B[38;5;28mself\u001B[39m\u001B[38;5;241m.\u001B[39mobj\u001B[38;5;241m.\u001B[39m_get_axis(axis))\n\u001B[1;32m   1684\u001B[0m \u001B[38;5;28;01mif\u001B[39;00m key \u001B[38;5;241m>\u001B[39m\u001B[38;5;241m=\u001B[39m len_axis \u001B[38;5;129;01mor\u001B[39;00m key \u001B[38;5;241m<\u001B[39m \u001B[38;5;241m-\u001B[39mlen_axis:\n\u001B[0;32m-> 1685\u001B[0m     \u001B[38;5;28;01mraise\u001B[39;00m \u001B[38;5;167;01mIndexError\u001B[39;00m(\u001B[38;5;124m\"\u001B[39m\u001B[38;5;124msingle positional indexer is out-of-bounds\u001B[39m\u001B[38;5;124m\"\u001B[39m)\n",
      "\u001B[0;31mIndexError\u001B[0m: single positional indexer is out-of-bounds"
     ]
    }
   ],
   "execution_count": 94
  },
  {
   "metadata": {},
   "cell_type": "code",
   "outputs": [],
   "execution_count": null,
   "source": "",
   "id": "a5ae28c95b0c939e"
  }
 ],
 "metadata": {
  "kernelspec": {
   "display_name": "Python 3",
   "language": "python",
   "name": "python3"
  },
  "language_info": {
   "codemirror_mode": {
    "name": "ipython",
    "version": 2
   },
   "file_extension": ".py",
   "mimetype": "text/x-python",
   "name": "python",
   "nbconvert_exporter": "python",
   "pygments_lexer": "ipython2",
   "version": "2.7.6"
  }
 },
 "nbformat": 4,
 "nbformat_minor": 5
}
