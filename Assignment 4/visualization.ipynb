{
 "cells": [
  {
   "cell_type": "code",
   "id": "initial_id",
   "metadata": {
    "collapsed": true,
    "ExecuteTime": {
     "end_time": "2024-10-02T12:37:34.280899Z",
     "start_time": "2024-10-02T12:37:22.556173Z"
    }
   },
   "source": "import pandas as pd",
   "outputs": [],
   "execution_count": 1
  },
  {
   "metadata": {
    "ExecuteTime": {
     "end_time": "2024-10-02T12:37:35.140620Z",
     "start_time": "2024-10-02T12:37:34.310256Z"
    }
   },
   "cell_type": "code",
   "source": "xyz = pd.read_table(\"06_tx_1965-2023_jrk.xyz\", delim_whitespace=True)",
   "id": "e732d58c2337a28",
   "outputs": [
    {
     "name": "stderr",
     "output_type": "stream",
     "text": [
      "/var/folders/g4/8z1prdqs5l3dj5xzv765t_sc0000gn/T/ipykernel_4343/152992696.py:1: FutureWarning: The 'delim_whitespace' keyword in pd.read_table is deprecated and will be removed in a future version. Use ``sep='\\s+'`` instead\n",
      "  xyz = pd.read_table(\"06_tx_1965-2023_jrk.xyz\", delim_whitespace=True)\n"
     ]
    }
   ],
   "execution_count": 2
  },
  {
   "metadata": {
    "ExecuteTime": {
     "end_time": "2024-10-02T12:37:35.416405Z",
     "start_time": "2024-10-02T12:37:35.398757Z"
    }
   },
   "cell_type": "code",
   "source": "xyz",
   "id": "fddd900654b04401",
   "outputs": [
    {
     "data": {
      "text/plain": [
       "                 X          Y     Z         T   loc\n",
       "0        109682.41  558181.19  3.77  5-8-1965   900\n",
       "1        109677.53  558180.09  3.63  5-8-1965   900\n",
       "2        109672.65  558179.00  3.55  5-8-1965   900\n",
       "3        109667.77  558177.91  3.41  5-8-1965   900\n",
       "4        109662.89  558176.82  3.16  5-8-1965   900\n",
       "...            ...        ...   ...       ...   ...\n",
       "1380678  117558.08  579018.26 -1.44  3-4-2023  3081\n",
       "1380679  117551.46  579025.77 -1.70  3-4-2023  3081\n",
       "1380680  117544.85  579033.27 -1.88  3-4-2023  3081\n",
       "1380681  117538.24  579040.77 -2.14  3-4-2023  3081\n",
       "1380682  117531.63  579048.27 -2.21  3-4-2023  3081\n",
       "\n",
       "[1380683 rows x 5 columns]"
      ],
      "text/html": [
       "<div>\n",
       "<style scoped>\n",
       "    .dataframe tbody tr th:only-of-type {\n",
       "        vertical-align: middle;\n",
       "    }\n",
       "\n",
       "    .dataframe tbody tr th {\n",
       "        vertical-align: top;\n",
       "    }\n",
       "\n",
       "    .dataframe thead th {\n",
       "        text-align: right;\n",
       "    }\n",
       "</style>\n",
       "<table border=\"1\" class=\"dataframe\">\n",
       "  <thead>\n",
       "    <tr style=\"text-align: right;\">\n",
       "      <th></th>\n",
       "      <th>X</th>\n",
       "      <th>Y</th>\n",
       "      <th>Z</th>\n",
       "      <th>T</th>\n",
       "      <th>loc</th>\n",
       "    </tr>\n",
       "  </thead>\n",
       "  <tbody>\n",
       "    <tr>\n",
       "      <th>0</th>\n",
       "      <td>109682.41</td>\n",
       "      <td>558181.19</td>\n",
       "      <td>3.77</td>\n",
       "      <td>5-8-1965</td>\n",
       "      <td>900</td>\n",
       "    </tr>\n",
       "    <tr>\n",
       "      <th>1</th>\n",
       "      <td>109677.53</td>\n",
       "      <td>558180.09</td>\n",
       "      <td>3.63</td>\n",
       "      <td>5-8-1965</td>\n",
       "      <td>900</td>\n",
       "    </tr>\n",
       "    <tr>\n",
       "      <th>2</th>\n",
       "      <td>109672.65</td>\n",
       "      <td>558179.00</td>\n",
       "      <td>3.55</td>\n",
       "      <td>5-8-1965</td>\n",
       "      <td>900</td>\n",
       "    </tr>\n",
       "    <tr>\n",
       "      <th>3</th>\n",
       "      <td>109667.77</td>\n",
       "      <td>558177.91</td>\n",
       "      <td>3.41</td>\n",
       "      <td>5-8-1965</td>\n",
       "      <td>900</td>\n",
       "    </tr>\n",
       "    <tr>\n",
       "      <th>4</th>\n",
       "      <td>109662.89</td>\n",
       "      <td>558176.82</td>\n",
       "      <td>3.16</td>\n",
       "      <td>5-8-1965</td>\n",
       "      <td>900</td>\n",
       "    </tr>\n",
       "    <tr>\n",
       "      <th>...</th>\n",
       "      <td>...</td>\n",
       "      <td>...</td>\n",
       "      <td>...</td>\n",
       "      <td>...</td>\n",
       "      <td>...</td>\n",
       "    </tr>\n",
       "    <tr>\n",
       "      <th>1380678</th>\n",
       "      <td>117558.08</td>\n",
       "      <td>579018.26</td>\n",
       "      <td>-1.44</td>\n",
       "      <td>3-4-2023</td>\n",
       "      <td>3081</td>\n",
       "    </tr>\n",
       "    <tr>\n",
       "      <th>1380679</th>\n",
       "      <td>117551.46</td>\n",
       "      <td>579025.77</td>\n",
       "      <td>-1.70</td>\n",
       "      <td>3-4-2023</td>\n",
       "      <td>3081</td>\n",
       "    </tr>\n",
       "    <tr>\n",
       "      <th>1380680</th>\n",
       "      <td>117544.85</td>\n",
       "      <td>579033.27</td>\n",
       "      <td>-1.88</td>\n",
       "      <td>3-4-2023</td>\n",
       "      <td>3081</td>\n",
       "    </tr>\n",
       "    <tr>\n",
       "      <th>1380681</th>\n",
       "      <td>117538.24</td>\n",
       "      <td>579040.77</td>\n",
       "      <td>-2.14</td>\n",
       "      <td>3-4-2023</td>\n",
       "      <td>3081</td>\n",
       "    </tr>\n",
       "    <tr>\n",
       "      <th>1380682</th>\n",
       "      <td>117531.63</td>\n",
       "      <td>579048.27</td>\n",
       "      <td>-2.21</td>\n",
       "      <td>3-4-2023</td>\n",
       "      <td>3081</td>\n",
       "    </tr>\n",
       "  </tbody>\n",
       "</table>\n",
       "<p>1380683 rows × 5 columns</p>\n",
       "</div>"
      ]
     },
     "execution_count": 3,
     "metadata": {},
     "output_type": "execute_result"
    }
   ],
   "execution_count": 3
  },
  {
   "metadata": {},
   "cell_type": "code",
   "outputs": [],
   "execution_count": null,
   "source": "",
   "id": "aaa9621cb8d762f0"
  }
 ],
 "metadata": {
  "kernelspec": {
   "display_name": "Python 3",
   "language": "python",
   "name": "python3"
  },
  "language_info": {
   "codemirror_mode": {
    "name": "ipython",
    "version": 2
   },
   "file_extension": ".py",
   "mimetype": "text/x-python",
   "name": "python",
   "nbconvert_exporter": "python",
   "pygments_lexer": "ipython2",
   "version": "2.7.6"
  }
 },
 "nbformat": 4,
 "nbformat_minor": 5
}
